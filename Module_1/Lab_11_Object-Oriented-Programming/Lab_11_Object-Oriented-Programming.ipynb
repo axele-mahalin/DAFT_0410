{
 "cells": [
  {
   "cell_type": "code",
   "execution_count": 34,
   "id": "03228768",
   "metadata": {},
   "outputs": [
    {
     "name": "stdout",
     "output_type": "stream",
     "text": [
      "[2, 2, 4]\n"
     ]
    }
   ],
   "source": [
    "#Remove All The Marked Elements of a List\n",
    "\n",
    "list_3 = []\n",
    "\n",
    "def remove_elements(list_1,list_2):\n",
    "    for i in list_1:\n",
    "        if i not in list_2:\n",
    "            list_3.append(i)\n",
    "    print(list_3)\n",
    "\n",
    "list_1 = [1, 1, 2, 3, 1, 2, 3, 4]\n",
    "list_2 = [1, 3]\n",
    "\n",
    "remove_elements(list_1,list_2)"
   ]
  },
  {
   "cell_type": "code",
   "execution_count": 87,
   "id": "de5abd81",
   "metadata": {},
   "outputs": [
    {
     "name": "stdout",
     "output_type": "stream",
     "text": [
      "(1, 3)\n",
      "(3, 2)\n"
     ]
    }
   ],
   "source": [
    "#Method For Counting Total Occurence Of Specific Digits\n",
    "\n",
    "integers_list =  [1, 1, 2 ,3 ,1 ,2 ,3 ,4]\n",
    "digits_list = [1, 3]\n",
    "\n",
    "class List():\n",
    "    def count_spec_digits(self, integers_list, digits_list):\n",
    "        new_list = []\n",
    "        for i in digits_list:\n",
    "            total = integers_list.count(i)\n",
    "            new_list.append(i)\n",
    "            new_list.append(total)\n",
    "            for i in range(0, len(new_list)-1):\n",
    "                tup = ()\n",
    "                tup = (new_list[i], new_list[i+1])\n",
    "            print(tup)\n",
    "\n",
    "l = List()\n",
    "l.count_spec_digits(integers_list, digits_list)\n"
   ]
  },
  {
   "cell_type": "code",
   "execution_count": 131,
   "id": "e5e2ae9e",
   "metadata": {},
   "outputs": [],
   "source": [
    "#Ordered Count of Characters\n",
    "\n",
    "word = \"abracadabra\"\n",
    "\n",
    "def ordered_count(word):\n",
    "    new_list = list(word)\n",
    "    letters = set(new_list)\n",
    "    letters = list(letters)\n",
    "    final_list = []\n",
    "    for i in letters:\n",
    "        total = word.count(i)\n",
    "        final_list.append(i)\n",
    "        final_list.append(total)\n",
    "        for i in range(0, len(final_list)-1):\n",
    "            tup = ()\n",
    "            tup = (final_list[i], final_list[i+1])\n",
    "        print(tup)"
   ]
  },
  {
   "cell_type": "code",
   "execution_count": 132,
   "id": "bbdec64d",
   "metadata": {},
   "outputs": [
    {
     "name": "stdout",
     "output_type": "stream",
     "text": [
      "('c', 1)\n",
      "('a', 5)\n",
      "('b', 2)\n",
      "('r', 2)\n",
      "('d', 1)\n"
     ]
    }
   ],
   "source": [
    "ordered_count(word)"
   ]
  },
  {
   "cell_type": "code",
   "execution_count": null,
   "id": "0eb4124d",
   "metadata": {},
   "outputs": [],
   "source": []
  },
  {
   "cell_type": "code",
   "execution_count": null,
   "id": "942b7f64",
   "metadata": {},
   "outputs": [],
   "source": []
  },
  {
   "cell_type": "code",
   "execution_count": null,
   "id": "126944d9",
   "metadata": {},
   "outputs": [],
   "source": []
  },
  {
   "cell_type": "code",
   "execution_count": null,
   "id": "9b5c110b",
   "metadata": {},
   "outputs": [],
   "source": []
  }
 ],
 "metadata": {
  "kernelspec": {
   "display_name": "Python 3 (ipykernel)",
   "language": "python",
   "name": "python3"
  },
  "language_info": {
   "codemirror_mode": {
    "name": "ipython",
    "version": 3
   },
   "file_extension": ".py",
   "mimetype": "text/x-python",
   "name": "python",
   "nbconvert_exporter": "python",
   "pygments_lexer": "ipython3",
   "version": "3.9.13"
  }
 },
 "nbformat": 4,
 "nbformat_minor": 5
}
