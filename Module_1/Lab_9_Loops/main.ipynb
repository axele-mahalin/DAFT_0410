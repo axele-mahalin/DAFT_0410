{
 "cells": [
  {
   "cell_type": "markdown",
   "metadata": {},
   "source": [
    "# Loops\n",
    "\n",
    "Complete the following set of exercises to solidify your knowledge for Loops."
   ]
  },
  {
   "cell_type": "markdown",
   "metadata": {},
   "source": [
    "#### 1. Print first 10 natural numbers using while loop"
   ]
  },
  {
   "cell_type": "code",
   "execution_count": 4,
   "metadata": {},
   "outputs": [
    {
     "name": "stdout",
     "output_type": "stream",
     "text": [
      "1\n",
      "2\n",
      "3\n",
      "4\n",
      "5\n",
      "6\n",
      "7\n",
      "8\n",
      "9\n",
      "10\n"
     ]
    }
   ],
   "source": [
    "i = 0\n",
    "\n",
    "while i < 10:\n",
    "    i += 1\n",
    "    print(i)"
   ]
  },
  {
   "cell_type": "markdown",
   "metadata": {},
   "source": [
    "#### 2. Display numbers from a list using loop\n",
    "Write a program to display only those numbers from a list that satisfy the following conditions\n",
    "\n",
    "The number must be divisible by five\n",
    "\n",
    "If the number is greater than 150, then skip it and move to the next number\n",
    "\n",
    "If the number is greater than 500, then stop the loop\n",
    "\n",
    "numbers = [12, 75, 150, 180, 145, 525, 50]"
   ]
  },
  {
   "cell_type": "code",
   "execution_count": 5,
   "metadata": {},
   "outputs": [
    {
     "name": "stdout",
     "output_type": "stream",
     "text": [
      "75\n",
      "150\n",
      "145\n",
      "50\n"
     ]
    }
   ],
   "source": [
    "numbers = [12, 75, 150, 180, 145, 525, 50]\n",
    "\n",
    "for i in numbers:\n",
    "    if i % 5 == 0:\n",
    "        if i > 150:\n",
    "            continue\n",
    "        if i > 500:\n",
    "            break\n",
    "        print(i)\n"
   ]
  },
  {
   "cell_type": "markdown",
   "metadata": {},
   "source": [
    "#### 3.Write a Python program to check the validity of a password (input from users).\n",
    "\n",
    "Validation :\n",
    "\n",
    "At least 1 letter between [a-z] and 1 letter between [A-Z].\n",
    "\n",
    "At least 1 number between [0-9].\n",
    "\n",
    "At least 1 character from [$#@].\n",
    "\n",
    "Minimum length 6 characters.\n",
    "\n",
    "Maximum length 16 characters."
   ]
  },
  {
   "cell_type": "code",
   "execution_count": 6,
   "metadata": {},
   "outputs": [
    {
     "name": "stdout",
     "output_type": "stream",
     "text": [
      "Please enter a password :axèle\n",
      "Please enter a password that respects the requirements\n"
     ]
    }
   ],
   "source": [
    "import re\n",
    "\n",
    "pwd = input('Please enter a password :')\n",
    "\n",
    "a = True\n",
    "\n",
    "while a == True:\n",
    "    if len(pwd) < 6 and len(pwd) > 16:\n",
    "        break\n",
    "    elif not re.search('[a-z]', pwd):\n",
    "        break\n",
    "    elif not re.search('[A-Z]', pwd):\n",
    "        break\n",
    "    elif not re.search('[0-9]', pwd):\n",
    "        break\n",
    "    elif not re.search('[$#@]', pwd):\n",
    "        break\n",
    "    else:\n",
    "        print('Your password is valid')\n",
    "        a = False\n",
    "        break\n",
    "if a:\n",
    "    print('Please enter a password that respects the requirements')"
   ]
  },
  {
   "cell_type": "markdown",
   "metadata": {},
   "source": [
    "#### 4. Break the loop when x is 6, and see what happens with the else block"
   ]
  },
  {
   "cell_type": "code",
   "execution_count": null,
   "metadata": {},
   "outputs": [],
   "source": [
    "pwd = input('Please enter a password :')\n",
    "\n",
    "a = True\n",
    "\n",
    "while a == True:\n",
    "    if len(pwd) < 6 and len(pwd) > 16:\n",
    "        break\n",
    "    elif len(pwd) == 6:\n",
    "        break\n",
    "    elif not re.search('[a-z]', pwd):\n",
    "        break\n",
    "    elif not re.search('[A-Z]', pwd):\n",
    "        break\n",
    "    elif not re.search('[0-9]', pwd):\n",
    "        break\n",
    "    elif not re.search('[$#@]', pwd):\n",
    "        break\n",
    "    else:\n",
    "        print('Your password is valid')\n",
    "        a = False\n",
    "        break\n",
    "if a:\n",
    "    print('Please enter a password that respects the requirements')"
   ]
  },
  {
   "cell_type": "markdown",
   "metadata": {},
   "source": [
    "#### 5. Write a Python program to calculate the sum and average of n integer numbers (input from the user). Input 0 to finish.\n"
   ]
  },
  {
   "cell_type": "code",
   "execution_count": 24,
   "metadata": {},
   "outputs": [
    {
     "name": "stdout",
     "output_type": "stream",
     "text": [
      "Please enter a number, or press 0 to finish: 12\n",
      "Please enter a number, or press 0 to finish: 22\n",
      "Please enter a number, or press 0 to finish: 0\n",
      "The sum of the numbers you entered is: 34 and the mean is: 17\n"
     ]
    }
   ],
   "source": [
    "import statistics as stats\n",
    "\n",
    "choice = True\n",
    "list = []\n",
    "\n",
    "while choice != 0:\n",
    "    choice = int(input('Please enter a number, or press 0 to finish: '))\n",
    "    list.append(choice)\n",
    "if choice == 0:\n",
    "    list.pop(-1)\n",
    "    for i in list:\n",
    "        sum_list = sum(list)\n",
    "        mean_list = stats.mean(list)\n",
    "    print(f\"The sum of the numbers you entered is: {sum_list} and the mean is: {mean_list}\")"
   ]
  }
 ],
 "metadata": {
  "kernelspec": {
   "display_name": "Python 3 (ipykernel)",
   "language": "python",
   "name": "python3"
  },
  "language_info": {
   "codemirror_mode": {
    "name": "ipython",
    "version": 3
   },
   "file_extension": ".py",
   "mimetype": "text/x-python",
   "name": "python",
   "nbconvert_exporter": "python",
   "pygments_lexer": "ipython3",
   "version": "3.9.13"
  }
 },
 "nbformat": 4,
 "nbformat_minor": 2
}
