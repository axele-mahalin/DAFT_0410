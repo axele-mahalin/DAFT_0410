{
 "cells": [
  {
   "cell_type": "code",
   "execution_count": 120,
   "id": "8f30858d",
   "metadata": {},
   "outputs": [
    {
     "name": "stdout",
     "output_type": "stream",
     "text": [
      "Be careful, the array includes wrong values such as null or undefined.\n"
     ]
    },
    {
     "data": {
      "text/plain": [
       "16"
      ]
     },
     "execution_count": 120,
     "metadata": {},
     "output_type": "execute_result"
    }
   ],
   "source": [
    "#counting sheeps\n",
    "\n",
    "array = [True,  True,  True,  False,\n",
    "  True,  True,  True,  True ,\n",
    "  True,  False, True,  False,\n",
    "  True,  False, False, True ,\n",
    "  True,  True,  True,  True ,\n",
    "  False, False, True,  12]\n",
    "\n",
    "def counting(array):\n",
    "    count_total = 0\n",
    "    for i in array:\n",
    "        if i == True:\n",
    "            count_total +=1\n",
    "        elif i == False:\n",
    "            count_total +=0\n",
    "        else:\n",
    "            print(\"Be careful, the array includes wrong values such as null or undefined.\") \n",
    "    return count_total\n",
    "    \n",
    "counting(array)"
   ]
  },
  {
   "cell_type": "code",
   "execution_count": 85,
   "id": "461b1025",
   "metadata": {},
   "outputs": [
    {
     "name": "stdout",
     "output_type": "stream",
     "text": [
      "['Keep', 'Keep', 'Keep']\n"
     ]
    }
   ],
   "source": [
    "#removing elements\n",
    "\n",
    "array = [\"Keep\", \"Remove\", \"Keep\", \"Remove\", \"Keep\"]\n",
    "\n",
    "def remove_second(array):\n",
    "    for i in array:\n",
    "        list = array[0::2]\n",
    "    print(list)\n",
    "    \n",
    "remove_second(array)"
   ]
  },
  {
   "cell_type": "code",
   "execution_count": 37,
   "id": "c4421b85",
   "metadata": {},
   "outputs": [
    {
     "name": "stdout",
     "output_type": "stream",
     "text": [
      "[1, 3, 2, 5, 3]\n"
     ]
    }
   ],
   "source": [
    "#Convert number to reversed array of digits\n",
    "\n",
    "number = 35231\n",
    "array = []\n",
    "reversed_array = []\n",
    "\n",
    "def reverse(number):\n",
    "    number = list(str(number))\n",
    "    for i in number:\n",
    "        array.append(int(i))\n",
    "        reversed_array = array[::-1]\n",
    "    print(reversed_array)\n",
    "    \n",
    "reverse(number)"
   ]
  },
  {
   "cell_type": "code",
   "execution_count": 64,
   "id": "3b3c22b9",
   "metadata": {},
   "outputs": [
    {
     "name": "stdout",
     "output_type": "stream",
     "text": [
      "81\n",
      "1\n",
      "1\n",
      "81\n"
     ]
    }
   ],
   "source": [
    "#Square every digit\n",
    "\n",
    "digit = 9119\n",
    "array = []\n",
    "square = []\n",
    "\n",
    "def square(digit):\n",
    "    digit = list(str(digit))\n",
    "    for i in digit:\n",
    "        array.append(int(i))\n",
    "    for i in array:\n",
    "        square = i ** 2\n",
    "        print(square)\n",
    "        \n",
    "square(digit)"
   ]
  },
  {
   "cell_type": "code",
   "execution_count": 65,
   "id": "8e6fae3a",
   "metadata": {},
   "outputs": [],
   "source": [
    "#Counting Total Occurence Of Specific Digits\n",
    "\n",
    "integers_list =  [1, 1, 2 ,3 ,1 ,2 ,3 ,4]\n",
    "digits_list = [1, 3]\n",
    "\n",
    "class List():\n",
    "    def count_spec_digits(self, integers_list, digits_list):\n",
    "        new_list = []\n",
    "        for i in digits_list:\n",
    "            total = integers_list.count(i)\n",
    "            new_list.append(i)\n",
    "            new_list.append(total)\n",
    "            for i in range(0, len(new_list)-1):\n",
    "                tup = ()\n",
    "                tup = (new_list[i], new_list[i+1])\n",
    "            print(tup)\n",
    "\n",
    "l = List()\n",
    "l.count_spec_digits(integers_list, digits_list)"
   ]
  },
  {
   "cell_type": "code",
   "execution_count": null,
   "id": "0cd470bb",
   "metadata": {},
   "outputs": [],
   "source": []
  },
  {
   "cell_type": "code",
   "execution_count": null,
   "id": "a0c6e775",
   "metadata": {},
   "outputs": [],
   "source": []
  }
 ],
 "metadata": {
  "kernelspec": {
   "display_name": "Python 3 (ipykernel)",
   "language": "python",
   "name": "python3"
  },
  "language_info": {
   "codemirror_mode": {
    "name": "ipython",
    "version": 3
   },
   "file_extension": ".py",
   "mimetype": "text/x-python",
   "name": "python",
   "nbconvert_exporter": "python",
   "pygments_lexer": "ipython3",
   "version": "3.9.13"
  }
 },
 "nbformat": 4,
 "nbformat_minor": 5
}
